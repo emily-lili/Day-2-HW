{
 "cells": [
  {
   "cell_type": "markdown",
   "metadata": {},
   "source": [
    "# Functions, Scoping, Data Collections 1 & List Comprehensions"
   ]
  },
  {
   "cell_type": "markdown",
   "metadata": {},
   "source": [
    "## Tasks Today:\n",
    "\n",
    "<i>Monday Additions (or, and ... if statements)</i>\n",
    "\n",
    "1) String Manipulation <br>\n",
    " &nbsp;&nbsp;&nbsp;&nbsp; a) strip() <br>\n",
    " &nbsp;&nbsp;&nbsp;&nbsp; b) title() <br>\n",
    "2) Working With Lists <br>\n",
    " &nbsp;&nbsp;&nbsp;&nbsp; a) min() <br>\n",
    " &nbsp;&nbsp;&nbsp;&nbsp; b) max() <br>\n",
    " &nbsp;&nbsp;&nbsp;&nbsp; c) sum() <br>\n",
    " &nbsp;&nbsp;&nbsp;&nbsp; d) sort() <br>\n",
    " &nbsp;&nbsp;&nbsp;&nbsp; e) Copying a List <br>\n",
    " &nbsp;&nbsp;&nbsp;&nbsp; f) 'in' keyword <br>\n",
    " &nbsp;&nbsp;&nbsp;&nbsp; g) 'not in' keyword <br>\n",
    " &nbsp;&nbsp;&nbsp;&nbsp; i) Checking an Empty List <br>\n",
    " &nbsp;&nbsp;&nbsp;&nbsp; j) Removing Instances with a Loop <br>\n",
    "3) List Comprehensions <br>\n",
    "4) Tuples <br>\n",
    " &nbsp;&nbsp;&nbsp;&nbsp; a) sorted() <br>\n",
    "5) Functions <br>\n",
    " &nbsp;&nbsp;&nbsp;&nbsp; a) User-Defined vs. Built-In Functions <br>\n",
    " &nbsp;&nbsp;&nbsp;&nbsp; b) Accepting Parameters <br>\n",
    " &nbsp;&nbsp;&nbsp;&nbsp; c) Default Parameters <br>\n",
    " &nbsp;&nbsp;&nbsp;&nbsp; d) Making an Argument Optional <br>\n",
    " &nbsp;&nbsp;&nbsp;&nbsp; e) Keyword Arguments <br>\n",
    " &nbsp;&nbsp;&nbsp;&nbsp; f) Returning Values <br>\n",
    " &nbsp;&nbsp;&nbsp;&nbsp; g) *args <br>\n",
    " &nbsp;&nbsp;&nbsp;&nbsp; h) Docstring <br>\n",
    " &nbsp;&nbsp;&nbsp;&nbsp; i) Using a User Function in a Loop <br>\n",
    "6) Scope"
   ]
  },
  {
   "cell_type": "markdown",
   "metadata": {},
   "source": [
    "### String Manipulation"
   ]
  },
  {
   "cell_type": "markdown",
   "metadata": {},
   "source": [
    "##### .lstrip()"
   ]
  },
  {
   "cell_type": "code",
   "execution_count": 3,
   "metadata": {},
   "outputs": [
    {
     "data": {
      "text/plain": [
       "'asd#10 238al KBAWEJHKndas    oej    '"
      ]
     },
     "execution_count": 3,
     "metadata": {},
     "output_type": "execute_result"
    }
   ],
   "source": [
    "# string.lstrip()\n",
    "\n",
    "mystring = '   asd#10 238al KBAWEJHKndas    oej    '\n",
    "\n",
    "# I forgot, strings are immutable. We can't directly change them\n",
    "lstripstr = mystring.lstrip()\n",
    "\n",
    "lstripstr"
   ]
  },
  {
   "cell_type": "markdown",
   "metadata": {},
   "source": [
    "##### .rstrip()"
   ]
  },
  {
   "cell_type": "code",
   "execution_count": 4,
   "metadata": {},
   "outputs": [
    {
     "data": {
      "text/plain": [
       "'   asd#10 238al KBAWEJHKndas    oej'"
      ]
     },
     "execution_count": 4,
     "metadata": {},
     "output_type": "execute_result"
    }
   ],
   "source": [
    "# string.rstrip()\n",
    "rstripstr = mystring.rstrip()\n",
    "\n",
    "rstripstr\n"
   ]
  },
  {
   "cell_type": "markdown",
   "metadata": {},
   "source": [
    "##### .strip()"
   ]
  },
  {
   "cell_type": "code",
   "execution_count": 5,
   "metadata": {},
   "outputs": [
    {
     "data": {
      "text/plain": [
       "'asd#10 238al KBAWEJHKndas    oej'"
      ]
     },
     "execution_count": 5,
     "metadata": {},
     "output_type": "execute_result"
    }
   ],
   "source": [
    "# string.strip()\n",
    "\n",
    "stripstr = mystring.strip()\n",
    "stripstr"
   ]
  },
  {
   "cell_type": "markdown",
   "metadata": {},
   "source": [
    "##### .title()"
   ]
  },
  {
   "cell_type": "code",
   "execution_count": 15,
   "metadata": {},
   "outputs": [
    {
     "data": {
      "text/plain": [
       "'Burton Guster'"
      ]
     },
     "execution_count": 15,
     "metadata": {},
     "output_type": "execute_result"
    }
   ],
   "source": [
    "# string.title()\n",
    "\n",
    "sentence = 'benedict cumberbatch can be called many names and people still know who you are talking about.'\n",
    "# Makes The First Letter Of Every Word Capitalized \n",
    "titles = sentence.title()\n",
    "# MAKES EVERYTHING CAPS\n",
    "uppers = sentence.upper()\n",
    "# makes everything lowercase\n",
    "lowers = sentence.lower()\n",
    "\n",
    "name = 'bUrTON GUSTer'\n",
    "name = name.title()\n",
    "name\n"
   ]
  },
  {
   "cell_type": "markdown",
   "metadata": {},
   "source": [
    "### String Exercise <br>\n",
    "<p>Strip all white space and capitalize every name in the list given</p>"
   ]
  },
  {
   "cell_type": "code",
   "execution_count": 26,
   "metadata": {},
   "outputs": [
    {
     "name": "stdout",
     "output_type": "stream",
     "text": [
      "0     coNNor\n",
      "0 Connor\n",
      "1 max\n",
      "1 Max\n",
      "2  EVan \n",
      "2 Evan\n",
      "3 JORDAN\n",
      "3 Jordan\n",
      "['Connor', 'Max', 'Evan', 'Jordan']\n"
     ]
    }
   ],
   "source": [
    "names = ['    coNNor', 'max', ' EVan ', 'JORDAN']\n",
    "# HINT: You will need to use a for loop for iteration\n",
    "# hint 2.0: you need to change the values in that list\n",
    "            # use an index loop for this\n",
    "for i in range(len(names)):\n",
    "    print(i, names[i])\n",
    "    names[i] = names[i].title().strip()\n",
    "    print(i, names[i])\n",
    "\n",
    "print(names)"
   ]
  },
  {
   "cell_type": "markdown",
   "metadata": {},
   "source": [
    "### Working With Lists"
   ]
  },
  {
   "cell_type": "markdown",
   "metadata": {},
   "source": [
    "##### min()"
   ]
  },
  {
   "cell_type": "code",
   "execution_count": 41,
   "metadata": {},
   "outputs": [
    {
     "data": {
      "text/plain": [
       "1"
      ]
     },
     "execution_count": 41,
     "metadata": {},
     "output_type": "execute_result"
    }
   ],
   "source": [
    "# min(list)\n",
    "nums = [123, 342.10, 1, 23, 4589071, 3, 17.47]\n",
    "\n",
    "\n",
    "# whats happening in the background of the built-in min function\n",
    "def min(list_of_numbers):\n",
    "    ans = list_of_numbers[0]\n",
    "    for n in list_of_numbers:\n",
    "        if n < ans:\n",
    "            ans = n\n",
    "    return ans\n",
    "\n",
    "min(nums)"
   ]
  },
  {
   "cell_type": "markdown",
   "metadata": {},
   "source": [
    "##### max()"
   ]
  },
  {
   "cell_type": "code",
   "execution_count": 42,
   "metadata": {},
   "outputs": [
    {
     "data": {
      "text/plain": [
       "4589071"
      ]
     },
     "execution_count": 42,
     "metadata": {},
     "output_type": "execute_result"
    }
   ],
   "source": [
    "# max(list)\n",
    "\n",
    "max(nums)"
   ]
  },
  {
   "cell_type": "markdown",
   "metadata": {},
   "source": [
    "##### sum()"
   ]
  },
  {
   "cell_type": "code",
   "execution_count": 43,
   "metadata": {},
   "outputs": [
    {
     "data": {
      "text/plain": [
       "4589580.569999999"
      ]
     },
     "execution_count": 43,
     "metadata": {},
     "output_type": "execute_result"
    }
   ],
   "source": [
    "# sum(list)\n",
    "# requires numerical data types\n",
    "\n",
    "sum(nums)"
   ]
  },
  {
   "cell_type": "markdown",
   "metadata": {},
   "source": [
    "##### sorted()"
   ]
  },
  {
   "cell_type": "code",
   "execution_count": 59,
   "metadata": {},
   "outputs": [
    {
     "data": {
      "text/plain": [
       "[4589071, 342.1, 123, 23, 17.47, 3, 1]"
      ]
     },
     "execution_count": 59,
     "metadata": {},
     "output_type": "execute_result"
    }
   ],
   "source": [
    "# sorted(list)\n",
    "# out of place algorithm\n",
    "# does not modify original, makes copy\n",
    "# returns the new list\n",
    "\n",
    "nums = [123, 342.10, 1, 23, 4589071, 3, 17.47]\n",
    "nums_sorted = sorted(nums, reverse=True)\n",
    "nums_sorted"
   ]
  },
  {
   "cell_type": "markdown",
   "metadata": {},
   "source": [
    "##### .sort() <br>\n",
    "<p>Difference between sort and sorted, is that sorted doesn't change original list it returns a copy, while .sort changes the original list</p>"
   ]
  },
  {
   "cell_type": "code",
   "execution_count": 57,
   "metadata": {},
   "outputs": [
    {
     "name": "stdout",
     "output_type": "stream",
     "text": [
      "['  sea cucumber', '1monkey', '27 foxes', '@dolphin', 'Albatross', 'albatross']\n",
      "None\n"
     ]
    }
   ],
   "source": [
    "# list.sort()\n",
    "# in-place algorithm\n",
    "# modifies original\n",
    "\n",
    "nums.sort()\n",
    "nums\n",
    "\n",
    "animals = ['27 foxes', '@dolphin', '  sea cucumber', '1monkey', 'albatross', 'Albatross']\n",
    "nothin = animals.sort()\n",
    "print(animals)\n",
    "print(nothin)\n",
    "# use sorted when you don't want to alter original list, use .sort() when you want to alter original list"
   ]
  },
  {
   "cell_type": "code",
   "execution_count": 79,
   "metadata": {},
   "outputs": [
    {
     "name": "stdout",
     "output_type": "stream",
     "text": [
      "None\n",
      "['foxes', 'birds', 'ducks']\n"
     ]
    }
   ],
   "source": [
    "# when you set a variable equal to a function call\n",
    "# var = max([12, 3, 4])\n",
    "# whats actually happening is that when that line of code runs\n",
    "# the variable is set equal to the return value of the function\n",
    "# not the function call itself\n",
    "\n",
    "# why i could only do this with a list\n",
    "# because I always forget strings are immutable. you cant change strings\n",
    "mylist = ['foxes']\n",
    "\n",
    "def example(something):\n",
    "    # IGNORE WHATS HAPPENING ON LINE 14 OTHER THAN THAT IT IS MODIFYING THE ORIGINAL LIST\n",
    "    # THIS IS NOT COPYING A LIST LIKE BELOW - THIS IS SOMETHING DIFFERENT THAT YOU DO NOT NEED TO KNOW FOR NOW\n",
    "    something[:] = something + ['birds', 'ducks']\n",
    "    return None\n",
    "\n",
    "print(example(mylist))\n",
    "\n",
    "print(mylist)"
   ]
  },
  {
   "cell_type": "markdown",
   "metadata": {},
   "source": [
    "##### Copying a List"
   ]
  },
  {
   "cell_type": "code",
   "execution_count": 82,
   "metadata": {},
   "outputs": [
    {
     "name": "stdout",
     "output_type": "stream",
     "text": [
      "['Burton Guster', 'Bruton Gaster', 'Lavender Gooms', 'Doctor McTock', 'Methuselah Honeysuckle']\n",
      "['Burton Guster', 'Bruton Gaster', 'Lavender Gooms', 'Doctor McTock', 'Methuselah Honeysuckle']\n",
      "['Burton Guster', 'Bruton Gaster', 'Lavender Gooms', 'Doctor McTock', 'Methuselah Honeysuckle']\n"
     ]
    }
   ],
   "source": [
    "# [:] copies a list, doesn't alter original\n",
    "# this is a form of List Slicing\n",
    "names = ['Burton Guster', 'Bruton Gaster', 'Lavender Gooms', 'Doctor McTock', 'Methuselah Honeysuckle']\n",
    "print(names)\n",
    "othernames = names[:]\n",
    "print(othernames)\n",
    "\n",
    "# can also copy a list using .copy()\n",
    "othernamestwo = names.copy()\n",
    "print(othernamestwo)"
   ]
  },
  {
   "cell_type": "code",
   "execution_count": null,
   "metadata": {},
   "outputs": [],
   "source": [
    "# example why you might copy\n",
    "# I want to know which of my names start with B\n",
    "# I don't want to delete my other names - I care about knowing all of my names for future use\n",
    "# So, I would make a copy of my list and modify that\n",
    "# This would maintain whats called 'Data Integrity'\n",
    "    # in other words, we don't lose any data when working with our data"
   ]
  },
  {
   "cell_type": "markdown",
   "metadata": {},
   "source": [
    "##### 'in' keyword"
   ]
  },
  {
   "cell_type": "code",
   "execution_count": 83,
   "metadata": {},
   "outputs": [
    {
     "name": "stdout",
     "output_type": "stream",
     "text": [
      "Thats not my name.\n"
     ]
    }
   ],
   "source": [
    "# in and not in are used for membership tests\n",
    "# they are conditional operators\n",
    "# see day 1 conditionals for more detail\n",
    "\n",
    "names = ['Burton Guster', 'Bruton Gaster', 'Lavender Gooms', 'Doctor McTock', 'Methuselah Honeysuckle']\n",
    "\n",
    "if 'Bruton Gaster' in names:\n",
    "    print('Thats not my name.')"
   ]
  },
  {
   "cell_type": "markdown",
   "metadata": {},
   "source": [
    "##### 'not in' keyword"
   ]
  },
  {
   "cell_type": "code",
   "execution_count": 84,
   "metadata": {},
   "outputs": [
    {
     "name": "stdout",
     "output_type": "stream",
     "text": [
      "Thats not my name.\n"
     ]
    }
   ],
   "source": [
    "if 'Gus TT Showbiz' not in names:\n",
    "    print('Thats not my name.')"
   ]
  },
  {
   "cell_type": "markdown",
   "metadata": {},
   "source": [
    "##### Checking an Empty List"
   ]
  },
  {
   "cell_type": "code",
   "execution_count": 96,
   "metadata": {},
   "outputs": [
    {
     "name": "stdout",
     "output_type": "stream",
     "text": [
      "<class 'list'> 0\n",
      "yea its empty\n",
      "empty #2\n",
      "var is none means not var evals to True\n"
     ]
    }
   ],
   "source": [
    "# if l_1: or if l_1 == []:\n",
    "\n",
    "l_1 = []\n",
    "print(type(l_1), len(l_1))\n",
    "\n",
    "# evaluates to True if l_1 is empty\n",
    "if l_1 == []:\n",
    "    print('yea its empty')\n",
    "\n",
    "# evaluates to False if l_1 is empty\n",
    "if l_1:\n",
    "    print('wont print')\n",
    "\n",
    "# evaluates to True if l_1 is empty\n",
    "if not l_1:\n",
    "    print('empty #2')\n",
    "\n",
    "x = None\n",
    "if not x:\n",
    "    print('var is none means not var evals to True')"
   ]
  },
  {
   "cell_type": "markdown",
   "metadata": {},
   "source": [
    "##### Removing Instances with a Loop"
   ]
  },
  {
   "cell_type": "code",
   "execution_count": 100,
   "metadata": {},
   "outputs": [
    {
     "name": "stdout",
     "output_type": "stream",
     "text": [
      "['bird', 'government drone', 'bird', 'cat', 'dog', 'squirrel']\n",
      "['government drone', 'cat', 'dog', 'squirrel']\n"
     ]
    }
   ],
   "source": [
    "# while, remove\n",
    "animals = ['bird', 'bird', 'government drone', 'bird', 'cat', 'dog', 'squirrel']\n",
    "\n",
    "# can use the list.remove() method to remove one instance of a value\n",
    "animals.remove('bird')\n",
    "print(animals)\n",
    "\n",
    "# to remove all instances, use a while loop with .remove() and our in keyword\n",
    "while 'bird' in animals:\n",
    "    animals.remove('bird')\n",
    "print(animals)"
   ]
  },
  {
   "cell_type": "markdown",
   "metadata": {},
   "source": [
    "### List Exercise <br>\n",
    "<p>Remove all duplicates<br><b>Extra: Create a program that will remove any duplicates from a given list</b></p>\n",
    " Do this for homework in addition to the two exercises at the bottom"
   ]
  },
  {
   "cell_type": "code",
   "execution_count": null,
   "metadata": {},
   "outputs": [],
   "source": [
    "names = ['connor', 'connor', 'bob', 'connor', 'evan', 'max', 'evan', 2, 2, 2, 3, 3, 4, 'bob', 'kevin']\n",
    "# Hint 1: You will need an append\n",
    "# Hint 2: Using an empty list will make life easier\n",
    "\n",
    "\n"
   ]
  },
  {
   "cell_type": "markdown",
   "metadata": {},
   "source": [
    "### List Comprehensions <br>\n",
    "<p>Creating a quickly generated list to work with<br>*result*  = [*transform*    *iteration*         *filter*     ]</p>"
   ]
  },
  {
   "cell_type": "markdown",
   "metadata": {},
   "source": [
    "##### In a list comprehension we have a few pieces:\n",
    "1. The first is the counter/ variable - IN this the variable is x\n",
    "2. then we have a transform for the variable\n",
    "3. The finale part of a list comp is called the condition\n",
    "\n",
    "```python\n",
    "    [transform, variable, condition]\n",
    "```"
   ]
  },
  {
   "cell_type": "code",
   "execution_count": 106,
   "metadata": {},
   "outputs": [
    {
     "name": "stdout",
     "output_type": "stream",
     "text": [
      "[1, 8, 27, 64, 125, 216, 343, 512, 729, 1000]\n",
      "[1, 8, 27, 64, 125, 216, 343, 512, 729, 1000]\n"
     ]
    }
   ],
   "source": [
    "# number comprehension\n",
    "\n",
    "# With a regular for loop\n",
    "cubes = []\n",
    "for number in range(1,11):\n",
    "    cubes.append(number**3)\n",
    "print(cubes)\n",
    "\n",
    "# IN a list comprehension we have a few pieces:\n",
    "# The first is the counter/ variable - IN this the variable is x\n",
    "# Then we have a transform for the variable \n",
    "# The finale part of a list comp is called the condition\n",
    "#[variable, transform, condition]\n",
    "\n",
    "cubes2 = [x**3 for x in range(1,11)]\n",
    "print(cubes2)"
   ]
  },
  {
   "cell_type": "code",
   "execution_count": 107,
   "metadata": {},
   "outputs": [
    {
     "name": "stdout",
     "output_type": "stream",
     "text": [
      "[1, 8, 64, 125, 343, 512, 1000]\n"
     ]
    }
   ],
   "source": [
    "cubesnotdiv3 = [x for x in cubes2 if x%3 != 0]\n",
    "print(cubesnotdiv3)"
   ]
  },
  {
   "cell_type": "code",
   "execution_count": 111,
   "metadata": {},
   "outputs": [
    {
     "name": "stdout",
     "output_type": "stream",
     "text": [
      "[[1, 1, 1], [4, 8, 16], [9, 27, 81], [16, 64, 256], [25, 125, 625], [36, 216, 1296], [49, 343, 2401], [64, 512, 4096], [81, 729, 6561], [100, 1000, 10000]]\n",
      "[[1, 1, 1], [4, 8, 16], [9, 27, 81], [16, 64, 256], [25, 125, 625], [36, 216, 1296], [49, 343, 2401], [64, 512, 4096], [81, 729, 6561], [100, 1000, 10000]]\n"
     ]
    }
   ],
   "source": [
    "# nesting list comprehension is a thing you can do\n",
    "# kind of like nesting for loops\n",
    "nestedexp = [[x**y for y in range(2,5)] for x in range(1,11)]\n",
    "print(nestedexp)\n",
    "\n",
    "# same thing with nested for loops\n",
    "nestedexploop = []\n",
    "for x in range(1,11):\n",
    "    exps = []\n",
    "    for y in range(2,5):\n",
    "        exps.append(x**y)\n",
    "    nestedexploop.append(exps)\n",
    "print(nestedexploop)"
   ]
  },
  {
   "cell_type": "markdown",
   "metadata": {},
   "source": [
    "There are a few benefits to using List comprehensions. The most obvious would be that we now have shorter code to work with instead of using 3+ lines of code in the for loop variant.\n",
    "\n",
    "Another is an added benefit to memory usage. Since the list's memory is allocated first before adding elements to it, we don't have to resize the list once we add elements to it.\n",
    "\n",
    "Lastly, list comprehensions are considered the \"pythonic\" way to write code by the PEP8 standards (Python Style Guide)"
   ]
  },
  {
   "cell_type": "code",
   "execution_count": 116,
   "metadata": {},
   "outputs": [
    {
     "name": "stdout",
     "output_type": "stream",
     "text": [
      "[1, 4, 9, 16, 25, 36, 49, 64, 81, 100, 121, 144, 169, 196, 225, 256, 289, 324, 361]\n"
     ]
    }
   ],
   "source": [
    "# square number comprehension\n",
    "squares = [x**2 for x in range(1,20)]\n",
    "print(squares)"
   ]
  },
  {
   "cell_type": "code",
   "execution_count": 118,
   "metadata": {},
   "outputs": [
    {
     "name": "stdout",
     "output_type": "stream",
     "text": [
      "['ah', 'aah', 'aaah', 'aaaah', 'aaaaah', 'aaaaaah', 'aaaaaaah', 'aaaaaaaah', 'aaaaaaaaah', 'aaaaaaaaaah', 'aaaaaaaaaaah', 'aaaaaaaaaaaah', 'aaaaaaaaaaaaah', 'aaaaaaaaaaaaaah', 'aaaaaaaaaaaaaaah', 'aaaaaaaaaaaaaaaah', 'aaaaaaaaaaaaaaaaah', 'aaaaaaaaaaaaaaaaaah', 'aaaaaaaaaaaaaaaaaaah']\n",
      "['bird!', 'bird!', 'government drone!', 'bird!', 'cat!', 'dog!', 'squirrel!']\n"
     ]
    }
   ],
   "source": [
    "# string comprehension\n",
    "yells = ['a'*x+'h' for x in range(1,20)]\n",
    "print(yells)\n",
    "\n",
    "animals = ['bird', 'bird', 'government drone', 'bird', 'cat', 'dog', 'squirrel']\n",
    "animals = [x+'!' for x in animals]\n",
    "print(animals)\n"
   ]
  },
  {
   "cell_type": "markdown",
   "metadata": {},
   "source": [
    "### Tuples <br>\n",
    "<p><b>Defined as an immutable list</b></p><br>Seperated by commas using parenthesis"
   ]
  },
  {
   "cell_type": "code",
   "execution_count": 122,
   "metadata": {},
   "outputs": [
    {
     "name": "stdout",
     "output_type": "stream",
     "text": [
      "government drone\n",
      "bird\n",
      "bird\n",
      "government drone\n",
      "bird\n",
      "cat\n",
      "dog\n",
      "squirrel\n"
     ]
    }
   ],
   "source": [
    "# syntax clue for a tuple is () without a word right before\n",
    "# var = (something, something) <-- tuple\n",
    "# var = something(something, something) <-- function call\n",
    "\n",
    "mytuple = ('you', 'cant', 'change', 'me')\n",
    "\n",
    "animals = ['bird', 'bird', 'government drone', 'bird', 'cat', 'dog', 'squirrel']\n",
    "animaltuple = tuple(animals)\n",
    "\n",
    "# just like a list, tuples are iterable, indexed, ordered\n",
    "# but they are IMMUTABLE -> cant be changed after creation\n",
    "\n",
    "#access a value just like a list\n",
    "print(animaltuple[2])\n",
    "\n",
    "#loop\n",
    "for animal in animaltuple:\n",
    "    print(animal)\n",
    "\n",
    "# cannot modify\n",
    "# ERROR on line below\n",
    "# animaltuple[2] = 'nope'"
   ]
  },
  {
   "cell_type": "markdown",
   "metadata": {},
   "source": [
    "##### sorted()"
   ]
  },
  {
   "cell_type": "code",
   "execution_count": 125,
   "metadata": {},
   "outputs": [
    {
     "name": "stdout",
     "output_type": "stream",
     "text": [
      "['bird', 'bird', 'bird', 'cat', 'dog', 'government drone', 'squirrel']\n",
      "('bird', 'bird', 'bird', 'cat', 'dog', 'government drone', 'squirrel')\n"
     ]
    }
   ],
   "source": [
    "anituple = ('bird', 'government drone', 'bird', 'cat', 'dog','bird',  'squirrel')\n",
    "sortedanimals = sorted(anituple)\n",
    "print(sortedanimals)\n",
    "# can call sorted on a tuple bc it makes a copy as a list and sorts that list\n",
    "# if you want a tuple again, just convert the resulting list\n",
    "sortedanimals = tuple(sortedanimals)\n",
    "print(sortedanimals)"
   ]
  },
  {
   "cell_type": "markdown",
   "metadata": {},
   "source": [
    "##### Adding values to a Tuple"
   ]
  },
  {
   "cell_type": "code",
   "execution_count": 129,
   "metadata": {},
   "outputs": [
    {
     "name": "stdout",
     "output_type": "stream",
     "text": [
      "('bird', 'government drone', 'bird', 'cat', 'dog', 'bird', 'squirrel')\n",
      "['bird', 'government drone', 'bird', 'cat', 'dog', 'bird', 'squirrel']\n",
      "['bird', 'government drone', 'bird', 'cat', 'dog', 'bird', 'squirrel', 'fox']\n",
      "('bird', 'government drone', 'bird', 'cat', 'dog', 'bird', 'squirrel', 'fox')\n"
     ]
    }
   ],
   "source": [
    "anituple = ('bird', 'government drone', 'bird', 'cat', 'dog','bird',  'squirrel')\n",
    "# cannot directly add a value to a tuple\n",
    "# but we can convert to a list, modify, then convert back\n",
    "print(anituple)\n",
    "anituple = list(anituple)\n",
    "print(anituple)\n",
    "anituple.append('fox')\n",
    "print(anituple)\n",
    "anituple = tuple(anituple)\n",
    "print(anituple)"
   ]
  },
  {
   "cell_type": "markdown",
   "metadata": {},
   "source": [
    "### More on type conversion\n",
    "<p>Knowing common type conversions can allow you to modify data in ways that wouldn't normally work</p>\n",
    "<p>Important type conversion below: string to list of words, string to list of chars, list to string </p>"
   ]
  },
  {
   "cell_type": "code",
   "execution_count": 142,
   "metadata": {},
   "outputs": [
    {
     "name": "stdout",
     "output_type": "stream",
     "text": [
      "['f', 'e', 'n', 'n', 'e', 'c', ' ', 'f', 'o', 'x']\n",
      "['fennec', 'fox']\n",
      "['f', 'nn', 'c fox']\n",
      "['fe', 'ec fox']\n",
      "fennec fox\n",
      "fennecfox\n",
      "fennec@fox\n"
     ]
    }
   ],
   "source": [
    "# 1. string to list of individual characters\n",
    "mystring = 'fennec fox'\n",
    "listchars = list(mystring)\n",
    "print(listchars)\n",
    "\n",
    "# 2. string to list of words\n",
    "# string.split(optional_delimiter) defaults to whitespace\n",
    "listwords = mystring.split() # most common usage\n",
    "esplit = mystring.split('e')\n",
    "nnsplit = mystring.split('nn')\n",
    "print(listwords)\n",
    "print(esplit)\n",
    "print(nnsplit)\n",
    "\n",
    "# 3. converting a list to a string\n",
    "# .join method\n",
    "# separator.join(list)\n",
    "# join on a single space\n",
    "wordsjoin = ' '.join(listwords)\n",
    "print(wordsjoin)\n",
    "# join on nothing (empty string)\n",
    "lettersjoin = ''.join(listwords)\n",
    "print(lettersjoin)\n",
    "# join on whatever you want\n",
    "weirdjoin = '@'.join(listwords)\n",
    "print(weirdjoin)\n"
   ]
  },
  {
   "cell_type": "markdown",
   "metadata": {},
   "source": [
    "## Functions"
   ]
  },
  {
   "cell_type": "markdown",
   "metadata": {},
   "source": [
    "##### User-Defined vs. Built-In Functions"
   ]
  },
  {
   "cell_type": "code",
   "execution_count": 152,
   "metadata": {},
   "outputs": [
    {
     "name": "stdout",
     "output_type": "stream",
     "text": [
      "Look at this print function being called on this string.\n",
      "Hello, Marwa!\n",
      "Hello, Aaron!\n",
      "Hello, Todd!\n"
     ]
    }
   ],
   "source": [
    "# we've been using function this whole time even if you haven't realized it\n",
    "# max(), min(), range(), len(), list(), int(), any_word(), something.otherthing(thing) <-- all function calls\n",
    "# they're all running a process/algorithm that has been defined and named\n",
    "# those are mostly examples of built-in function\n",
    "# all we have to do with a built-in is the FUNCTION CALL\n",
    "# we don't need to worry about defining a built-in -> its definition is built-in to python\n",
    "\n",
    "# calling a built-in # THIS IS A FUNCTION CALL\n",
    "print('Look at this print function being called on this string.')\n",
    "\n",
    "# a user-defined function on the other hand\n",
    "# before we can use it/call it/run it\n",
    "# we have to actually define what it does, what its called, and how to use it\n",
    "# its a more involved process than using a built-in\n",
    "# but it gives us lots of freedom in how we design our processes/algorithms for use in function\n",
    "\n",
    "# the blueprint for defining a function is as follows:\n",
    "# def function_name(parameters):\n",
    "    # do stuff\n",
    "    # return something\n",
    "\n",
    "# def keyword is our syntax clue that a function is being defined\n",
    "def hello(a_name):\n",
    "    greeting = f'Hello, {a_name}!'\n",
    "    return greeting\n",
    "# function definition is above^ but doesn't actually DO anything yet\n",
    "\n",
    "#if we want our function to actually DO stuff, we need to CALL it\n",
    "# function_name(values for parameters)\n",
    "print(hello('Marwa'))\n",
    "print(hello('Aaron'))\n",
    "print(hello('Todd'))"
   ]
  },
  {
   "cell_type": "markdown",
   "metadata": {},
   "source": [
    "##### Accepting Parameters"
   ]
  },
  {
   "cell_type": "code",
   "execution_count": 155,
   "metadata": {},
   "outputs": [
    {
     "name": "stdout",
     "output_type": "stream",
     "text": [
      "You painted the Tardigrade indigo. Why?\n",
      "You painted the Fennec Fox chartreuse. Why?\n",
      "You painted the Fennec Fox indigo. Why?\n",
      "You painted the Bear magenta. Why?\n"
     ]
    }
   ],
   "source": [
    "# like we saw in the above example, a functions parameters are inputs that can be passed to the function\n",
    "# in the function definition, we need to provide placeholder variables for whatever might be passed as a parameter\n",
    "# these placeholders also determine how many things can be passed as input to our function\n",
    "def paint_animal(animal, color):\n",
    "    return f'You painted the {animal} {color}. Why?'\n",
    "\n",
    "fox = 'Fennec Fox'\n",
    "bird = 'Golden Eagle'\n",
    "unkillablebear = 'Tardigrade'\n",
    "\n",
    "color_a = 'chartreuse'\n",
    "color_b = 'purple'\n",
    "color_c = 'indigo'\n",
    "\n",
    "# follow the position specified in our function definition (line 4) when passing in values to our function call (line 16)\n",
    "print(paint_animal(unkillablebear, color_c))\n",
    "print(paint_animal(fox, color_a))\n",
    "print(paint_animal(fox, color_c))\n",
    "print(paint_animal('Bear', 'magenta'))"
   ]
  },
  {
   "cell_type": "code",
   "execution_count": null,
   "metadata": {},
   "outputs": [],
   "source": [
    "# Lets say your working on a whiteboard or a codewars question\n",
    "# And they give you the following info\n",
    "# Example:\n",
    "# count_animals(sentence) -> 3\n",
    "\n",
    "# that is telling you that your function should accept one string as a parameter\n",
    "# and return one integer as output\n",
    "# so you could immediately know to set up your function like this:\n",
    "def count_animals(a_string_sentence):\n",
    "    integer_count = 0\n",
    "    # then figure out how to count the animals in the string\n",
    "    return integer_count\n",
    "\n",
    "# other example\n",
    "# Input: 'Fennec Fox', 'chartreuse'\n",
    "# Output: 'The Fennec Fox drank some Chartreuse.'\n",
    "def cocktails(a_person_or_animal, a_drink)\n",
    "    sentence = ''\n",
    "    # then figure out how to build the sentence\n",
    "    return sentence"
   ]
  },
  {
   "cell_type": "markdown",
   "metadata": {},
   "source": [
    "##### Default Parameters"
   ]
  },
  {
   "cell_type": "code",
   "execution_count": 161,
   "metadata": {},
   "outputs": [
    {
     "name": "stdout",
     "output_type": "stream",
     "text": [
      "You painted the fox fire truck red. Why?\n",
      "You painted the shark blue. Why?\n",
      "You painted the shark blue. Why?\n"
     ]
    }
   ],
   "source": [
    "# you've seen with some built-ins there are parameters that have a default behavior,\n",
    "    # and you can specify some other behavior\n",
    "# examples being range(10) vs. range(1, 10, 2) # start and step of range are default 0 and 1\n",
    "    # or print('hey') vs. print('hey', end='!') # end of print is default '\\n'\n",
    "    # or sorted(list, reverse=True) # reverse of sorted is default False\n",
    "\n",
    "# you can do defaults with your own functions\n",
    "# lets make the animal default to a fox for our paint function\n",
    "# we provide the default value in the parenthesis of the definition when we give the parameter a name\n",
    "def paint_default_animal(color, animal='fox'):\n",
    "    return f'You painted the {animal} {color}. Why?'\n",
    "\n",
    "# default arguments must follow non-default arguments so we flipped order of color and animal\n",
    "\n",
    "# call the function! don't need an animal name! can provide one if we want!\n",
    "print(paint_default_animal('fire truck red'))\n",
    "print(paint_default_animal('blue', animal='shark')) # using keyword argument for animal\n",
    "print(paint_default_animal('blue', 'shark')) # using positional argument for shark"
   ]
  },
  {
   "cell_type": "markdown",
   "metadata": {},
   "source": [
    "##### Making an Argument Optional"
   ]
  },
  {
   "cell_type": "code",
   "execution_count": 167,
   "metadata": {},
   "outputs": [
    {
     "name": "stdout",
     "output_type": "stream",
     "text": [
      "5\n",
      "Hello John  Smith\n"
     ]
    }
   ],
   "source": [
    "# same idea as a default argument\n",
    "# you just have it default to something specific to nullify its effect\n",
    "def addition(x, y, z=0):\n",
    "    return x + y + z\n",
    "print(addition(2, 3))\n",
    "\n",
    "def greeting(first, middle='', last='Smith'):\n",
    "    return f'Hello {first} {middle} {last}'\n",
    "print(greeting('John'))"
   ]
  },
  {
   "cell_type": "markdown",
   "metadata": {},
   "source": [
    "##### Keyword Arguments"
   ]
  },
  {
   "cell_type": "code",
   "execution_count": 168,
   "metadata": {},
   "outputs": [
    {
     "name": "stdout",
     "output_type": "stream",
     "text": [
      "You painted the Fennec Fox fire truck red. Why?\n"
     ]
    }
   ],
   "source": [
    "# last_name='Max', first_name='Smith' in the function call\n",
    "print(paint_default_animal(animal='Fennec Fox', color='fire truck red'))\n",
    "# see above"
   ]
  },
  {
   "cell_type": "markdown",
   "metadata": {},
   "source": [
    "# Creating a start, stop, step function"
   ]
  },
  {
   "cell_type": "code",
   "execution_count": 174,
   "metadata": {},
   "outputs": [
    {
     "name": "stdout",
     "output_type": "stream",
     "text": [
      "[0, 1, 2, 3, 4, 5, 6, 7, 8, 9, 10, 11]\n",
      "[27, 44, 61, 78, 95]\n"
     ]
    }
   ],
   "source": [
    "def myrange(stop, start=0, step=1):\n",
    "    nums = []\n",
    "    while start < stop:\n",
    "        nums.append(start)\n",
    "        start += step\n",
    "    return nums\n",
    "\n",
    "print(myrange(12))\n",
    "print(myrange(start=27, stop=99, step=17))"
   ]
  },
  {
   "cell_type": "markdown",
   "metadata": {},
   "source": [
    "##### Returning Values"
   ]
  },
  {
   "cell_type": "code",
   "execution_count": 177,
   "metadata": {},
   "outputs": [
    {
     "data": {
      "text/plain": [
       "True"
      ]
     },
     "execution_count": 177,
     "metadata": {},
     "output_type": "execute_result"
    }
   ],
   "source": [
    "# how the return keyword works\n",
    "# the return keyword is a keyword, not a function\n",
    "# you dont need parenthesis in your return line\n",
    "# if you have parenthesis in your return line -> like return(thing) or return ('hello')\n",
    "# you may inadvertently return a tuple\n",
    "\n",
    "# you can only return one piece or collection of data\n",
    "# like one list, one tuple, one string\n",
    "# you cannot return seven integers independently\n",
    "\n",
    "# as soon as a function reaches its return statement, the function stops\n",
    "# similar to a break statement in a loop\n",
    "def leap_year(year):\n",
    "    if year%4 == 0:\n",
    "        if year%100 == 0:\n",
    "            if year%400 == 0:\n",
    "                return True\n",
    "            return False\n",
    "        return True\n",
    "    return False\n",
    "leap_year(2000)\n",
    "\n",
    "# you can have a function with no return statement -> that function will return None\n",
    "\n",
    "# if you want to save the returned value from a function\n",
    "# set a variable equal to the function call\n",
    "leapyear2020is = leap_year(2000)\n",
    "leapyear2020is"
   ]
  },
  {
   "cell_type": "markdown",
   "metadata": {},
   "source": [
    "##### Docstring"
   ]
  },
  {
   "cell_type": "code",
   "execution_count": 181,
   "metadata": {},
   "outputs": [
    {
     "name": "stdout",
     "output_type": "stream",
     "text": [
      "Help on function paint_animal in module __main__:\n",
      "\n",
      "paint_animal(color, animal='fox')\n",
      "    Function requires a color to be passed as a parameter.\n",
      "    Optionally, an animal name can be passed.\n",
      "    If no animal name is passed, defaults to 'fox'.\n",
      "    Will ask you why you painted the animal that color.\n",
      "\n"
     ]
    }
   ],
   "source": [
    "# the docstring is documentation attached to a function to help developers!\n",
    "# good code has docstrings\n",
    "# i always forget to write my docstrings\n",
    "# docstrings are pulled up with help() or ?\n",
    "\n",
    "def paint_animal(color, animal='fox'):\n",
    "    \"\"\"\n",
    "        Function requires a color to be passed as a parameter.\n",
    "        Optionally, an animal name can be passed.\n",
    "        If no animal name is passed, defaults to 'fox'.\n",
    "        Will ask you why you painted the animal that color.\n",
    "    \"\"\"\n",
    "    return f'You painted the {animal} {color}. Why?'\n",
    "\n",
    "paint_animal?\n",
    "help(paint_animal)"
   ]
  },
  {
   "cell_type": "markdown",
   "metadata": {},
   "source": [
    "##### Using a User Function in a Loop"
   ]
  },
  {
   "cell_type": "code",
   "execution_count": 185,
   "metadata": {},
   "outputs": [
    {
     "name": "stdout",
     "output_type": "stream",
     "text": [
      "['You painted the Fennec Fox chartreuse. Why?', 'You painted the Fennec Fox purple. Why?', 'You painted the Fennec Fox indigo. Why?', 'You painted the Golden Eagle chartreuse. Why?', 'You painted the Golden Eagle purple. Why?', 'You painted the Golden Eagle indigo. Why?', 'You painted the Tardigrade chartreuse. Why?', 'You painted the Tardigrade purple. Why?', 'You painted the Tardigrade indigo. Why?']\n"
     ]
    }
   ],
   "source": [
    "def paint_animal(animal, color='black'):\n",
    "    return f'You painted the {animal} {color}. Why?'\n",
    "\n",
    "fox = 'Fennec Fox'\n",
    "bird = 'Golden Eagle'\n",
    "unkillablebear = 'Tardigrade'\n",
    "\n",
    "color_a = 'chartreuse'\n",
    "color_b = 'purple'\n",
    "color_c = 'indigo'\n",
    "\n",
    "animals = [fox, bird, unkillablebear]\n",
    "colors = [color_a, color_b, color_c]\n",
    "\n",
    "#for x in animals:\n",
    "    #print(paint_animal(x))\n",
    "    \n",
    "# orrrrrr\n",
    "paintings = []\n",
    "for animal in animals:\n",
    "    for color in colors:\n",
    "        paintings.append(paint_animal(animal, color))\n",
    "print(paintings)"
   ]
  },
  {
   "cell_type": "markdown",
   "metadata": {},
   "source": [
    "## Function Exercise <br>\n",
    "<p>Write a function that loops through a list of first_names and a list of last_names, combines the two and return a list of full_names</p>"
   ]
  },
  {
   "cell_type": "code",
   "execution_count": 9,
   "metadata": {},
   "outputs": [],
   "source": [
    "first_name = ['John', 'Evan', 'Jordan', 'Max']\n",
    "last_name = ['Smith', 'Smith', 'Williams', 'Bell']\n",
    "def fullnames(first_name, last_name):\n",
    "    fullnames_list = []\n",
    "    for i in range(len(first_name)):\n",
    "        fullnames_list.append(f\"{first_name[i]} {last_name[i]}\")\n",
    "    return fullnames_list\n",
    "\n",
    "# Output: ['John Smith', 'Evan Smith', 'Jordan Williams', 'Max Bell']\n"
   ]
  },
  {
   "cell_type": "markdown",
   "metadata": {},
   "source": [
    "## Scope <br>\n",
    "<p>Scope refers to the ability to access variables, different types of scope include:<br>a) Global<br>b) Function (local)<br>c) Class (local)</p>"
   ]
  },
  {
   "cell_type": "code",
   "execution_count": 191,
   "metadata": {},
   "outputs": [
    {
     "name": "stdout",
     "output_type": "stream",
     "text": [
      "global fox\n",
      "local bear\n",
      "global fox\n",
      "local bear\n",
      "global fox\n",
      "now global local bear\n"
     ]
    },
    {
     "ename": "NameError",
     "evalue": "name 'local_variable' is not defined",
     "output_type": "error",
     "traceback": [
      "\u001b[1;31m---------------------------------------------------------------------------\u001b[0m",
      "\u001b[1;31mNameError\u001b[0m                                 Traceback (most recent call last)",
      "\u001b[1;32m<ipython-input-191-fac57c3febf9>\u001b[0m in \u001b[0;36m<module>\u001b[1;34m\u001b[0m\n\u001b[0;32m     23\u001b[0m \u001b[1;33m\u001b[0m\u001b[0m\n\u001b[0;32m     24\u001b[0m \u001b[1;31m# trying to print a locally scoped variable globally will produce a 'not defined' error\u001b[0m\u001b[1;33m\u001b[0m\u001b[1;33m\u001b[0m\u001b[1;33m\u001b[0m\u001b[0m\n\u001b[1;32m---> 25\u001b[1;33m \u001b[0mprint\u001b[0m\u001b[1;33m(\u001b[0m\u001b[0mlocal_variable\u001b[0m\u001b[1;33m)\u001b[0m\u001b[1;33m\u001b[0m\u001b[1;33m\u001b[0m\u001b[0m\n\u001b[0m",
      "\u001b[1;31mNameError\u001b[0m: name 'local_variable' is not defined"
     ]
    }
   ],
   "source": [
    "# global variables are defined outside of functions and/or classes\n",
    "# global variables can be used everywhere\n",
    "# global scope\n",
    "animal = 'global fox'\n",
    "print(animal)\n",
    "\n",
    "# function definition\n",
    "# variables defined inside a function have local scope\n",
    "# they can only be accessed and used inside of that function\n",
    "def afunc():\n",
    "    local_variable = 'local bear'\n",
    "    print(local_variable)\n",
    "    print(animal)\n",
    "    # if we want to use it outside of the function, we have to return it\n",
    "    return local_variable\n",
    "\n",
    "#function call\n",
    "afunc()\n",
    "\n",
    "# saving the function call so that the return value is a globally scoped variable\n",
    "global_bear = afunc()\n",
    "print('now global ' + global_bear)\n",
    "\n",
    "# trying to print a locally scoped variable globally will produce a 'not defined' error\n",
    "# run this for a fun error: print(local_variable)"
   ]
  },
  {
   "cell_type": "markdown",
   "metadata": {},
   "source": [
    "# Exercises"
   ]
  },
  {
   "cell_type": "markdown",
   "metadata": {},
   "source": [
    "## Exercise 1 <br>\n",
    "<p>Given a list as a parameter,write a function that returns a list of numbers that are less than ten</b></i></p><br>\n",
    "<p> For example: Say your input parameter to the function is [1,11,14,5,8,9]...Your output should [1,5,8,9]</p>"
   ]
  },
  {
   "cell_type": "code",
   "execution_count": 5,
   "metadata": {},
   "outputs": [
    {
     "output_type": "stream",
     "name": "stdout",
     "text": [
      "[1, 5, 8, 9]\n"
     ]
    }
   ],
   "source": [
    "# Use the following list - [1,11,14,5,8,9]\n",
    "\n",
    "l_1 = [1,11,14,5,8,9]\n",
    "def less_than_10(numbers):\n",
    "    new_list = []\n",
    "    for num in numbers:\n",
    "        if num < 10:\n",
    "            new_list.append(num)\n",
    "    return(new_list)\n",
    "\n",
    "print(less_than_10(l_1))\n"
   ]
  },
  {
   "cell_type": "markdown",
   "metadata": {},
   "source": [
    "## Exercise 2 <br>\n",
    "<p>Write a function that takes in two lists and returns the two lists merged together and sorted<br>\n",
    "<b><i>Hint: You can use the .sort() method</i></b></p>"
   ]
  },
  {
   "cell_type": "code",
   "execution_count": 6,
   "metadata": {},
   "outputs": [
    {
     "output_type": "stream",
     "name": "stdout",
     "text": [
      "[1, 2, 3, 3, 4, 4, 5, 5, 6, 6, 7, 8, 10]\n"
     ]
    }
   ],
   "source": [
    "l_1 = [1,2,3,4,5,6]\n",
    "l_2 = [3,4,5,6,7,8,10]\n",
    "\n",
    "def merge_and_sort(list1,list2):\n",
    "    new_list = list1 + list2\n",
    "    new_list.sort()\n",
    "    return new_list\n",
    "\n",
    "print(merge_and_sort(l_1,l_2))"
   ]
  },
  {
   "cell_type": "markdown",
   "metadata": {},
   "source": [
    "# Exercise 3\n",
    "### List Exercise <br>\n",
    "<p>Remove all duplicates<br><b>Extra: Create a program that will remove any duplicates from a given list</b></p>\n",
    " Do this for homework in addition to the two exercises at the bottom\n"
   ]
  },
  {
   "cell_type": "code",
   "execution_count": 8,
   "metadata": {},
   "outputs": [
    {
     "output_type": "error",
     "ename": "SyntaxError",
     "evalue": "invalid syntax (<ipython-input-8-3890e42bc74c>, line 2)",
     "traceback": [
      "\u001b[0;36m  File \u001b[0;32m\"<ipython-input-8-3890e42bc74c>\"\u001b[0;36m, line \u001b[0;32m2\u001b[0m\n\u001b[0;31m    def sort(names)\u001b[0m\n\u001b[0m                   ^\u001b[0m\n\u001b[0;31mSyntaxError\u001b[0m\u001b[0;31m:\u001b[0m invalid syntax\n"
     ]
    }
   ],
   "source": [
    "names = ['connor', 'connor', 'bob', 'connor', 'evan', 'max', 'evan', 2, 2, 2, 3, 3, 4, 'bob', 'kevin']\n",
    "def sort(names)\n",
    "# Hint 1: You will need an append\n",
    "# Hint 2: Using an empty list will make life easier\n",
    "\n",
    "\n"
   ]
  },
  {
   "cell_type": "code",
   "execution_count": null,
   "metadata": {},
   "outputs": [],
   "source": []
  }
 ],
 "metadata": {
  "kernelspec": {
   "name": "python3",
   "display_name": "Python 3.8.8 64-bit ('base': conda)"
  },
  "language_info": {
   "codemirror_mode": {
    "name": "ipython",
    "version": 3
   },
   "file_extension": ".py",
   "mimetype": "text/x-python",
   "name": "python",
   "nbconvert_exporter": "python",
   "pygments_lexer": "ipython3",
   "version": "3.8.8"
  },
  "interpreter": {
   "hash": "dca0ade3e726a953b501b15e8e990130d2b7799f14cfd9f4271676035ebe5511"
  }
 },
 "nbformat": 4,
 "nbformat_minor": 2
}